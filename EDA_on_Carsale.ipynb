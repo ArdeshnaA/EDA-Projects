{
  "nbformat": 4,
  "nbformat_minor": 0,
  "metadata": {
    "colab": {
      "name": "EDA on Carsale.ipynb",
      "provenance": [],
      "collapsed_sections": [],
      "include_colab_link": true
    },
    "kernelspec": {
      "name": "python3",
      "display_name": "Python 3"
    },
    "language_info": {
      "name": "python"
    }
  },
  "cells": [
    {
      "cell_type": "markdown",
      "metadata": {
        "id": "view-in-github",
        "colab_type": "text"
      },
      "source": [
        "<a href=\"https://colab.research.google.com/github/ArdeshnaA/Netflix_Movies/blob/main/EDA_on_Carsale.ipynb\" target=\"_parent\"><img src=\"https://colab.research.google.com/assets/colab-badge.svg\" alt=\"Open In Colab\"/></a>"
      ]
    },
    {
      "cell_type": "code",
      "execution_count": 1,
      "metadata": {
        "id": "Y7YwFja80Ljo"
      },
      "outputs": [],
      "source": [
        "#importing the library\n",
        "import numpy as np\n",
        "import pandas as pd\n",
        "import matplotlib.pyplot as plt\n",
        "import seaborn as sns"
      ]
    },
    {
      "cell_type": "code",
      "source": [
        "#importing the file\n",
        "url = \"/content/Canadasalesdata.csv\"\n",
        "data = pd.read_csv(url)"
      ],
      "metadata": {
        "id": "-RNXngKMIHZZ"
      },
      "execution_count": 2,
      "outputs": []
    },
    {
      "cell_type": "code",
      "source": [
        "data.head()"
      ],
      "metadata": {
        "colab": {
          "base_uri": "https://localhost:8080/",
          "height": 206
        },
        "id": "CjzCtHfpIOBn",
        "outputId": "46e22227-5e49-4518-db9c-eb0dc03d77a5"
      },
      "execution_count": null,
      "outputs": [
        {
          "output_type": "execute_result",
          "data": {
            "text/plain": [
              "       Model  Jan  Feb  Mar  Apr  May  Jun  Jul  Aug  Sep  Oct  Nov  Dec  \\\n",
              "0  Acura MDX   93  389  782  611  550  501    0    0    0    0    0    0   \n",
              "1    Audi Q7  210  210  236  303  292  303    0    0    0    0    0    0   \n",
              "2    Audi Q8  130  130  146  211  203  211    0    0    0    0    0    0   \n",
              "3     BMW X5  323  323  364  518  498  518    0    0    0    0    0    0   \n",
              "4     BMW X6   72   72   81  113  108  113    0    0    0    0    0    0   \n",
              "\n",
              "   Sumofsales Category  Year  \n",
              "0        2926      MLS  2021  \n",
              "1        1554      MLS  2021  \n",
              "2        1031      MLS  2021  \n",
              "3        2544      MLS  2021  \n",
              "4         559      MLS  2021  "
            ],
            "text/html": [
              "\n",
              "  <div id=\"df-d6d02e20-c5f6-4e6c-89d4-854f5b85c289\">\n",
              "    <div class=\"colab-df-container\">\n",
              "      <div>\n",
              "<style scoped>\n",
              "    .dataframe tbody tr th:only-of-type {\n",
              "        vertical-align: middle;\n",
              "    }\n",
              "\n",
              "    .dataframe tbody tr th {\n",
              "        vertical-align: top;\n",
              "    }\n",
              "\n",
              "    .dataframe thead th {\n",
              "        text-align: right;\n",
              "    }\n",
              "</style>\n",
              "<table border=\"1\" class=\"dataframe\">\n",
              "  <thead>\n",
              "    <tr style=\"text-align: right;\">\n",
              "      <th></th>\n",
              "      <th>Model</th>\n",
              "      <th>Jan</th>\n",
              "      <th>Feb</th>\n",
              "      <th>Mar</th>\n",
              "      <th>Apr</th>\n",
              "      <th>May</th>\n",
              "      <th>Jun</th>\n",
              "      <th>Jul</th>\n",
              "      <th>Aug</th>\n",
              "      <th>Sep</th>\n",
              "      <th>Oct</th>\n",
              "      <th>Nov</th>\n",
              "      <th>Dec</th>\n",
              "      <th>Sumofsales</th>\n",
              "      <th>Category</th>\n",
              "      <th>Year</th>\n",
              "    </tr>\n",
              "  </thead>\n",
              "  <tbody>\n",
              "    <tr>\n",
              "      <th>0</th>\n",
              "      <td>Acura MDX</td>\n",
              "      <td>93</td>\n",
              "      <td>389</td>\n",
              "      <td>782</td>\n",
              "      <td>611</td>\n",
              "      <td>550</td>\n",
              "      <td>501</td>\n",
              "      <td>0</td>\n",
              "      <td>0</td>\n",
              "      <td>0</td>\n",
              "      <td>0</td>\n",
              "      <td>0</td>\n",
              "      <td>0</td>\n",
              "      <td>2926</td>\n",
              "      <td>MLS</td>\n",
              "      <td>2021</td>\n",
              "    </tr>\n",
              "    <tr>\n",
              "      <th>1</th>\n",
              "      <td>Audi Q7</td>\n",
              "      <td>210</td>\n",
              "      <td>210</td>\n",
              "      <td>236</td>\n",
              "      <td>303</td>\n",
              "      <td>292</td>\n",
              "      <td>303</td>\n",
              "      <td>0</td>\n",
              "      <td>0</td>\n",
              "      <td>0</td>\n",
              "      <td>0</td>\n",
              "      <td>0</td>\n",
              "      <td>0</td>\n",
              "      <td>1554</td>\n",
              "      <td>MLS</td>\n",
              "      <td>2021</td>\n",
              "    </tr>\n",
              "    <tr>\n",
              "      <th>2</th>\n",
              "      <td>Audi Q8</td>\n",
              "      <td>130</td>\n",
              "      <td>130</td>\n",
              "      <td>146</td>\n",
              "      <td>211</td>\n",
              "      <td>203</td>\n",
              "      <td>211</td>\n",
              "      <td>0</td>\n",
              "      <td>0</td>\n",
              "      <td>0</td>\n",
              "      <td>0</td>\n",
              "      <td>0</td>\n",
              "      <td>0</td>\n",
              "      <td>1031</td>\n",
              "      <td>MLS</td>\n",
              "      <td>2021</td>\n",
              "    </tr>\n",
              "    <tr>\n",
              "      <th>3</th>\n",
              "      <td>BMW X5</td>\n",
              "      <td>323</td>\n",
              "      <td>323</td>\n",
              "      <td>364</td>\n",
              "      <td>518</td>\n",
              "      <td>498</td>\n",
              "      <td>518</td>\n",
              "      <td>0</td>\n",
              "      <td>0</td>\n",
              "      <td>0</td>\n",
              "      <td>0</td>\n",
              "      <td>0</td>\n",
              "      <td>0</td>\n",
              "      <td>2544</td>\n",
              "      <td>MLS</td>\n",
              "      <td>2021</td>\n",
              "    </tr>\n",
              "    <tr>\n",
              "      <th>4</th>\n",
              "      <td>BMW X6</td>\n",
              "      <td>72</td>\n",
              "      <td>72</td>\n",
              "      <td>81</td>\n",
              "      <td>113</td>\n",
              "      <td>108</td>\n",
              "      <td>113</td>\n",
              "      <td>0</td>\n",
              "      <td>0</td>\n",
              "      <td>0</td>\n",
              "      <td>0</td>\n",
              "      <td>0</td>\n",
              "      <td>0</td>\n",
              "      <td>559</td>\n",
              "      <td>MLS</td>\n",
              "      <td>2021</td>\n",
              "    </tr>\n",
              "  </tbody>\n",
              "</table>\n",
              "</div>\n",
              "      <button class=\"colab-df-convert\" onclick=\"convertToInteractive('df-d6d02e20-c5f6-4e6c-89d4-854f5b85c289')\"\n",
              "              title=\"Convert this dataframe to an interactive table.\"\n",
              "              style=\"display:none;\">\n",
              "        \n",
              "  <svg xmlns=\"http://www.w3.org/2000/svg\" height=\"24px\"viewBox=\"0 0 24 24\"\n",
              "       width=\"24px\">\n",
              "    <path d=\"M0 0h24v24H0V0z\" fill=\"none\"/>\n",
              "    <path d=\"M18.56 5.44l.94 2.06.94-2.06 2.06-.94-2.06-.94-.94-2.06-.94 2.06-2.06.94zm-11 1L8.5 8.5l.94-2.06 2.06-.94-2.06-.94L8.5 2.5l-.94 2.06-2.06.94zm10 10l.94 2.06.94-2.06 2.06-.94-2.06-.94-.94-2.06-.94 2.06-2.06.94z\"/><path d=\"M17.41 7.96l-1.37-1.37c-.4-.4-.92-.59-1.43-.59-.52 0-1.04.2-1.43.59L10.3 9.45l-7.72 7.72c-.78.78-.78 2.05 0 2.83L4 21.41c.39.39.9.59 1.41.59.51 0 1.02-.2 1.41-.59l7.78-7.78 2.81-2.81c.8-.78.8-2.07 0-2.86zM5.41 20L4 18.59l7.72-7.72 1.47 1.35L5.41 20z\"/>\n",
              "  </svg>\n",
              "      </button>\n",
              "      \n",
              "  <style>\n",
              "    .colab-df-container {\n",
              "      display:flex;\n",
              "      flex-wrap:wrap;\n",
              "      gap: 12px;\n",
              "    }\n",
              "\n",
              "    .colab-df-convert {\n",
              "      background-color: #E8F0FE;\n",
              "      border: none;\n",
              "      border-radius: 50%;\n",
              "      cursor: pointer;\n",
              "      display: none;\n",
              "      fill: #1967D2;\n",
              "      height: 32px;\n",
              "      padding: 0 0 0 0;\n",
              "      width: 32px;\n",
              "    }\n",
              "\n",
              "    .colab-df-convert:hover {\n",
              "      background-color: #E2EBFA;\n",
              "      box-shadow: 0px 1px 2px rgba(60, 64, 67, 0.3), 0px 1px 3px 1px rgba(60, 64, 67, 0.15);\n",
              "      fill: #174EA6;\n",
              "    }\n",
              "\n",
              "    [theme=dark] .colab-df-convert {\n",
              "      background-color: #3B4455;\n",
              "      fill: #D2E3FC;\n",
              "    }\n",
              "\n",
              "    [theme=dark] .colab-df-convert:hover {\n",
              "      background-color: #434B5C;\n",
              "      box-shadow: 0px 1px 3px 1px rgba(0, 0, 0, 0.15);\n",
              "      filter: drop-shadow(0px 1px 2px rgba(0, 0, 0, 0.3));\n",
              "      fill: #FFFFFF;\n",
              "    }\n",
              "  </style>\n",
              "\n",
              "      <script>\n",
              "        const buttonEl =\n",
              "          document.querySelector('#df-d6d02e20-c5f6-4e6c-89d4-854f5b85c289 button.colab-df-convert');\n",
              "        buttonEl.style.display =\n",
              "          google.colab.kernel.accessAllowed ? 'block' : 'none';\n",
              "\n",
              "        async function convertToInteractive(key) {\n",
              "          const element = document.querySelector('#df-d6d02e20-c5f6-4e6c-89d4-854f5b85c289');\n",
              "          const dataTable =\n",
              "            await google.colab.kernel.invokeFunction('convertToInteractive',\n",
              "                                                     [key], {});\n",
              "          if (!dataTable) return;\n",
              "\n",
              "          const docLinkHtml = 'Like what you see? Visit the ' +\n",
              "            '<a target=\"_blank\" href=https://colab.research.google.com/notebooks/data_table.ipynb>data table notebook</a>'\n",
              "            + ' to learn more about interactive tables.';\n",
              "          element.innerHTML = '';\n",
              "          dataTable['output_type'] = 'display_data';\n",
              "          await google.colab.output.renderOutput(dataTable, element);\n",
              "          const docLink = document.createElement('div');\n",
              "          docLink.innerHTML = docLinkHtml;\n",
              "          element.appendChild(docLink);\n",
              "        }\n",
              "      </script>\n",
              "    </div>\n",
              "  </div>\n",
              "  "
            ]
          },
          "metadata": {},
          "execution_count": 6
        }
      ]
    },
    {
      "cell_type": "code",
      "source": [
        "#Rename the columns\n",
        "data = data.rename(columns={\"Sumofsales\" : \"Total_Sales\", \"Category\" : \"Car_Size\"})"
      ],
      "metadata": {
        "id": "B3lbASYiRRsJ"
      },
      "execution_count": 4,
      "outputs": []
    },
    {
      "cell_type": "code",
      "source": [
        "data.describe"
      ],
      "metadata": {
        "colab": {
          "base_uri": "https://localhost:8080/"
        },
        "id": "E4lvF1D8IZyY",
        "outputId": "38bf0264-9b40-428b-9b40-b6c88a5702d4"
      },
      "execution_count": null,
      "outputs": [
        {
          "output_type": "execute_result",
          "data": {
            "text/plain": [
              "<bound method NDFrame.describe of                   Model  Jan  Feb   Mar   Apr   May   Jun   Jul   Aug   Sep  \\\n",
              "0             Acura MDX   93  389   782   611   550   501     0     0     0   \n",
              "1               Audi Q7  210  210   236   303   292   303     0     0     0   \n",
              "2               Audi Q8  130  130   146   211   203   211     0     0     0   \n",
              "3                BMW X5  323  323   364   518   498   518     0     0     0   \n",
              "4                BMW X6   72   72    81   113   108   113     0     0     0   \n",
              "..                  ...  ...  ...   ...   ...   ...   ...   ...   ...   ...   \n",
              "231      Subaru Outback  499  621   948  1065  1079   981  1074   845   644   \n",
              "232      Toyota 4Runner  605  393   784   762   854   681   824   903   522   \n",
              "233   Toyota Highlander  729  792  1184  1095  1185  1423  1347  1336  1114   \n",
              "234    Volkswagen Atlas  530  521   822   925   881   725   761   769   748   \n",
              "235  Volkswagen Touareg    7    2     5     2     1     3     2     0     1   \n",
              "\n",
              "      Oct   Nov   Dec  Total_Sales Car_Size  Year  \n",
              "0       0     0     0         2926      MLS  2021  \n",
              "1       0     0     0         1554      MLS  2021  \n",
              "2       0     0     0         1031      MLS  2021  \n",
              "3       0     0     0         2544      MLS  2021  \n",
              "4       0     0     0          559      MLS  2021  \n",
              "..    ...   ...   ...          ...      ...   ...  \n",
              "231   926  1184  1106        10972       MS  2019  \n",
              "232   690   663   549         8230       MS  2019  \n",
              "233  1366  1316   924        13811       MS  2019  \n",
              "234   933   695   601         8911       MS  2019  \n",
              "235     3     0     0           26       MS  2019  \n",
              "\n",
              "[236 rows x 16 columns]>"
            ]
          },
          "metadata": {},
          "execution_count": 8
        }
      ]
    },
    {
      "cell_type": "code",
      "source": [
        "data.shape"
      ],
      "metadata": {
        "colab": {
          "base_uri": "https://localhost:8080/"
        },
        "id": "Z56BAqzpepIg",
        "outputId": "f3370632-41d6-4969-cabc-0ed3f030b143"
      },
      "execution_count": null,
      "outputs": [
        {
          "output_type": "execute_result",
          "data": {
            "text/plain": [
              "(236, 16)"
            ]
          },
          "metadata": {},
          "execution_count": 9
        }
      ]
    },
    {
      "cell_type": "code",
      "source": [
        "data.columns"
      ],
      "metadata": {
        "id": "T5t3xxeNe5LS",
        "outputId": "e10ee50f-7e8e-4d4a-97d8-248895472da3",
        "colab": {
          "base_uri": "https://localhost:8080/"
        }
      },
      "execution_count": null,
      "outputs": [
        {
          "output_type": "execute_result",
          "data": {
            "text/plain": [
              "Index(['Model', 'Jan', 'Feb', 'Mar', 'Apr', 'May', 'Jun', 'Jul', 'Aug', 'Sep',\n",
              "       'Oct', 'Nov', 'Dec', 'Total_Sales', 'Car_Size', 'Year'],\n",
              "      dtype='object')"
            ]
          },
          "metadata": {},
          "execution_count": 10
        }
      ]
    },
    {
      "cell_type": "code",
      "source": [
        "data['Jan']=data['Jan'].astype(str).astype(int)\n",
        "data['Feb']=data['Feb'].astype(str).astype(int)\n",
        "data['Mar']=data['Mar'].astype(str).astype(int)\n",
        "data['Apr']=data['Apr'].astype(str).astype(int)\n",
        "data['May']=data['May'].astype(str).astype(int)\n",
        "data['Jun']=data['Jun'].astype(str).astype(int)\n",
        "data['Jul']=data['Jul'].astype(str).astype(int)\n",
        "data['Aug']=data['Aug'].astype(str).astype(int)\n",
        "data['Sep']=data['Sep'].astype(str).astype(int)\n",
        "data['Oct']=data['Oct'].astype(str).astype(int)\n",
        "data['Nov']=data['Nov'].astype(str).astype(int)\n",
        "data['Dec']=data['Dec'].astype(str).astype(int)"
      ],
      "metadata": {
        "id": "l20ViGBMfgGw"
      },
      "execution_count": 5,
      "outputs": []
    },
    {
      "cell_type": "code",
      "source": [
        "data.isnull().sum()"
      ],
      "metadata": {
        "colab": {
          "base_uri": "https://localhost:8080/"
        },
        "id": "EfA1vy_qg3Vy",
        "outputId": "8995c649-c1b0-4a88-e4ef-8a571119ce2e"
      },
      "execution_count": null,
      "outputs": [
        {
          "output_type": "execute_result",
          "data": {
            "text/plain": [
              "Model          0\n",
              "Jan            0\n",
              "Feb            0\n",
              "Mar            0\n",
              "Apr            0\n",
              "May            0\n",
              "Jun            0\n",
              "Jul            0\n",
              "Aug            0\n",
              "Sep            0\n",
              "Oct            0\n",
              "Nov            0\n",
              "Dec            0\n",
              "Total_Sales    0\n",
              "Car_Size       0\n",
              "Year           0\n",
              "dtype: int64"
            ]
          },
          "metadata": {},
          "execution_count": 12
        }
      ]
    },
    {
      "cell_type": "code",
      "source": [
        "data[\"Model\"].unique()"
      ],
      "metadata": {
        "colab": {
          "base_uri": "https://localhost:8080/"
        },
        "id": "AllsUKQng_DI",
        "outputId": "e80b3eff-a28e-48c1-f3b1-0dad426510eb"
      },
      "execution_count": null,
      "outputs": [
        {
          "output_type": "execute_result",
          "data": {
            "text/plain": [
              "array(['Acura MDX', 'Audi Q7', 'Audi Q8', 'BMW X5', 'BMW X6',\n",
              "       'Cadillac XT5', 'Cadillac XT6', 'Genesis GV80', 'Infiniti QX60',\n",
              "       'Jaguar F0Pace', 'Land Rover Defender',\n",
              "       'Land Rover Discovery / LR4', 'Land Rover Range Rover Sport',\n",
              "       'Land Rover Range Rover Velar', 'Lexus GX', 'Lexus RX',\n",
              "       'Lincoln Aviator', 'Lincoln MKX/Nautilus', 'Maserati Levante',\n",
              "       'Mercedes0Benz GLE0Class', 'Porsche Cayenne', 'Tesla Model X',\n",
              "       'Volvo XC90', 'Alfa Romeo Stelvio', 'Audi eTron', 'Audi Q3',\n",
              "       'Audi Q5', 'BMW X1', 'BMW X2', 'Cadillac XT4', 'Infiniti QX30',\n",
              "       'Infiniti QX50', 'Jaguar E0Pace', 'Land Rover Discovery Sport',\n",
              "       'Land Rover Range Rover Evoque', 'Lexus NX', 'Lexus UX',\n",
              "       'Lincoln MKC', 'Mercedes0Benz GLA0Class',\n",
              "       'Mercedes0Benz GLC/GLK0Class', 'Volvo XC40', 'Volvo XC60',\n",
              "       'Infiniti QX55', 'Mercedes0Benz GLB', 'Tesla Model Y', 'BMW X7',\n",
              "       'Cadillac Escalade', 'Infiniti QX80', 'Land Rover Range Rover',\n",
              "       'Lexus LX', 'Lincoln Navigator', 'Mercedes0Benz G0Class',\n",
              "       'Mercedes0Benz GL/GLS0Class', 'Toyota Land Cruiser',\n",
              "       'Chevrolet Suburban', 'Chevrolet Tahoe', 'Ford Expedition',\n",
              "       'GMC Yukon', 'Jeep Grand Wagoneer', 'Nissan Armada',\n",
              "       'Toyota Sequoia', 'GMC Yukon XL', 'Kia Sorento', 'Kia Telluride',\n",
              "       'Mazda CX09', 'Nissan Murano', 'Nissan Pathfinder',\n",
              "       'Subaru Ascent', 'Subaru Outback', 'Toyota 4Runner',\n",
              "       'Toyota Highlander', 'Volkswagen Atlas', 'Buick Enclave',\n",
              "       'Chevrolet Blazer', 'Chevrolet TrailBlazer', 'Chevrolet Traverse',\n",
              "       'Dodge Durango', 'Ford Bronco Sport', 'Ford Edge', 'Ford Explorer',\n",
              "       'Ford Flex', 'GMC Acadia', 'Honda Passport', 'Honda Pilot',\n",
              "       'Hyundai Palisade', 'Hyundai Santa Fe', 'Jeep Grand Cherokee',\n",
              "       'Jeep Wrangler', 'Volkswagen Touareg'], dtype=object)"
            ]
          },
          "metadata": {},
          "execution_count": 13
        }
      ]
    },
    {
      "cell_type": "code",
      "source": [
        "len(data[\"Model\"].unique())"
      ],
      "metadata": {
        "colab": {
          "base_uri": "https://localhost:8080/"
        },
        "id": "cv-s9r4UhR7s",
        "outputId": "d900208d-1940-40bc-f437-0a1b8048f086"
      },
      "execution_count": null,
      "outputs": [
        {
          "output_type": "execute_result",
          "data": {
            "text/plain": [
              "89"
            ]
          },
          "metadata": {},
          "execution_count": 14
        }
      ]
    },
    {
      "cell_type": "code",
      "source": [
        "data['Model'].value_counts()"
      ],
      "metadata": {
        "colab": {
          "base_uri": "https://localhost:8080/"
        },
        "id": "-vkRMBqahZta",
        "outputId": "6cea1a6b-6743-4704-fcc2-c52588f3b016"
      },
      "execution_count": null,
      "outputs": [
        {
          "output_type": "execute_result",
          "data": {
            "text/plain": [
              "Land Rover Range Rover Evoque    4\n",
              "Volvo XC60                       4\n",
              "Volvo XC40                       4\n",
              "Mercedes0Benz GLC/GLK0Class      4\n",
              "Mercedes0Benz GLA0Class          4\n",
              "                                ..\n",
              "Mercedes0Benz GLB                2\n",
              "Chevrolet TrailBlazer            1\n",
              "Ford Bronco Sport                1\n",
              "Infiniti QX55                    1\n",
              "Jeep Grand Wagoneer              1\n",
              "Name: Model, Length: 89, dtype: int64"
            ]
          },
          "metadata": {},
          "execution_count": 15
        }
      ]
    },
    {
      "cell_type": "code",
      "source": [
        "#For storing all the Land Rover Models\n",
        "land_rover_sales = data.loc[data['Model'].str.contains(\"Land Rover\", case=False) ]"
      ],
      "metadata": {
        "id": "PBbnQeVjh6rB"
      },
      "execution_count": 6,
      "outputs": []
    },
    {
      "cell_type": "code",
      "source": [
        "#For Volvo and Land Rover Models\n",
        "data_rr_vol = data.loc[data['Model'].str.contains(\"Land Rover|Volvo\", case=False) ]"
      ],
      "metadata": {
        "id": "ZLJ8J58GUq7D"
      },
      "execution_count": null,
      "outputs": []
    },
    {
      "cell_type": "code",
      "source": [
        "#Setting the index as Model\n",
        "data_rr_vol = data_rr_vol.set_index('Model')"
      ],
      "metadata": {
        "id": "Z7LFK1dTV2sS"
      },
      "execution_count": null,
      "outputs": []
    },
    {
      "cell_type": "code",
      "source": [
        "data_rr_vol.head()"
      ],
      "metadata": {
        "colab": {
          "base_uri": "https://localhost:8080/",
          "height": 238
        },
        "id": "zOepo3TJWXAD",
        "outputId": "d4cce655-fa54-4d84-da02-68e14e5c5d6a"
      },
      "execution_count": null,
      "outputs": [
        {
          "output_type": "execute_result",
          "data": {
            "text/plain": [
              "                              Jan  Feb  Mar  Apr  May  Jun  Jul  Aug  Sep  \\\n",
              "Model                                                                       \n",
              "Land Rover Defender           216  216  243  129  124  129    0    0    0   \n",
              "Land Rover Discovery / LR4     13   13   15   21   20   21    0    0    0   \n",
              "Land Rover Range Rover Sport  263  263  296  282  271  282    0    0    0   \n",
              "Land Rover Range Rover Velar  105  105  118  149  143  149    0    0    0   \n",
              "Volvo XC90                    190  190  214  261  338  205    0    0    0   \n",
              "\n",
              "                              Oct  Nov  Dec  Total_Sales Car_Size  Year  \n",
              "Model                                                                    \n",
              "Land Rover Defender             0    0    0         1057      MLS  2021  \n",
              "Land Rover Discovery / LR4      0    0    0          103      MLS  2021  \n",
              "Land Rover Range Rover Sport    0    0    0         1657      MLS  2021  \n",
              "Land Rover Range Rover Velar    0    0    0          769      MLS  2021  \n",
              "Volvo XC90                      0    0    0         1398      MLS  2021  "
            ],
            "text/html": [
              "\n",
              "  <div id=\"df-62d29737-a04f-416a-8738-34c42b3c33ed\">\n",
              "    <div class=\"colab-df-container\">\n",
              "      <div>\n",
              "<style scoped>\n",
              "    .dataframe tbody tr th:only-of-type {\n",
              "        vertical-align: middle;\n",
              "    }\n",
              "\n",
              "    .dataframe tbody tr th {\n",
              "        vertical-align: top;\n",
              "    }\n",
              "\n",
              "    .dataframe thead th {\n",
              "        text-align: right;\n",
              "    }\n",
              "</style>\n",
              "<table border=\"1\" class=\"dataframe\">\n",
              "  <thead>\n",
              "    <tr style=\"text-align: right;\">\n",
              "      <th></th>\n",
              "      <th>Jan</th>\n",
              "      <th>Feb</th>\n",
              "      <th>Mar</th>\n",
              "      <th>Apr</th>\n",
              "      <th>May</th>\n",
              "      <th>Jun</th>\n",
              "      <th>Jul</th>\n",
              "      <th>Aug</th>\n",
              "      <th>Sep</th>\n",
              "      <th>Oct</th>\n",
              "      <th>Nov</th>\n",
              "      <th>Dec</th>\n",
              "      <th>Total_Sales</th>\n",
              "      <th>Car_Size</th>\n",
              "      <th>Year</th>\n",
              "    </tr>\n",
              "    <tr>\n",
              "      <th>Model</th>\n",
              "      <th></th>\n",
              "      <th></th>\n",
              "      <th></th>\n",
              "      <th></th>\n",
              "      <th></th>\n",
              "      <th></th>\n",
              "      <th></th>\n",
              "      <th></th>\n",
              "      <th></th>\n",
              "      <th></th>\n",
              "      <th></th>\n",
              "      <th></th>\n",
              "      <th></th>\n",
              "      <th></th>\n",
              "      <th></th>\n",
              "    </tr>\n",
              "  </thead>\n",
              "  <tbody>\n",
              "    <tr>\n",
              "      <th>Land Rover Defender</th>\n",
              "      <td>216</td>\n",
              "      <td>216</td>\n",
              "      <td>243</td>\n",
              "      <td>129</td>\n",
              "      <td>124</td>\n",
              "      <td>129</td>\n",
              "      <td>0</td>\n",
              "      <td>0</td>\n",
              "      <td>0</td>\n",
              "      <td>0</td>\n",
              "      <td>0</td>\n",
              "      <td>0</td>\n",
              "      <td>1057</td>\n",
              "      <td>MLS</td>\n",
              "      <td>2021</td>\n",
              "    </tr>\n",
              "    <tr>\n",
              "      <th>Land Rover Discovery / LR4</th>\n",
              "      <td>13</td>\n",
              "      <td>13</td>\n",
              "      <td>15</td>\n",
              "      <td>21</td>\n",
              "      <td>20</td>\n",
              "      <td>21</td>\n",
              "      <td>0</td>\n",
              "      <td>0</td>\n",
              "      <td>0</td>\n",
              "      <td>0</td>\n",
              "      <td>0</td>\n",
              "      <td>0</td>\n",
              "      <td>103</td>\n",
              "      <td>MLS</td>\n",
              "      <td>2021</td>\n",
              "    </tr>\n",
              "    <tr>\n",
              "      <th>Land Rover Range Rover Sport</th>\n",
              "      <td>263</td>\n",
              "      <td>263</td>\n",
              "      <td>296</td>\n",
              "      <td>282</td>\n",
              "      <td>271</td>\n",
              "      <td>282</td>\n",
              "      <td>0</td>\n",
              "      <td>0</td>\n",
              "      <td>0</td>\n",
              "      <td>0</td>\n",
              "      <td>0</td>\n",
              "      <td>0</td>\n",
              "      <td>1657</td>\n",
              "      <td>MLS</td>\n",
              "      <td>2021</td>\n",
              "    </tr>\n",
              "    <tr>\n",
              "      <th>Land Rover Range Rover Velar</th>\n",
              "      <td>105</td>\n",
              "      <td>105</td>\n",
              "      <td>118</td>\n",
              "      <td>149</td>\n",
              "      <td>143</td>\n",
              "      <td>149</td>\n",
              "      <td>0</td>\n",
              "      <td>0</td>\n",
              "      <td>0</td>\n",
              "      <td>0</td>\n",
              "      <td>0</td>\n",
              "      <td>0</td>\n",
              "      <td>769</td>\n",
              "      <td>MLS</td>\n",
              "      <td>2021</td>\n",
              "    </tr>\n",
              "    <tr>\n",
              "      <th>Volvo XC90</th>\n",
              "      <td>190</td>\n",
              "      <td>190</td>\n",
              "      <td>214</td>\n",
              "      <td>261</td>\n",
              "      <td>338</td>\n",
              "      <td>205</td>\n",
              "      <td>0</td>\n",
              "      <td>0</td>\n",
              "      <td>0</td>\n",
              "      <td>0</td>\n",
              "      <td>0</td>\n",
              "      <td>0</td>\n",
              "      <td>1398</td>\n",
              "      <td>MLS</td>\n",
              "      <td>2021</td>\n",
              "    </tr>\n",
              "  </tbody>\n",
              "</table>\n",
              "</div>\n",
              "      <button class=\"colab-df-convert\" onclick=\"convertToInteractive('df-62d29737-a04f-416a-8738-34c42b3c33ed')\"\n",
              "              title=\"Convert this dataframe to an interactive table.\"\n",
              "              style=\"display:none;\">\n",
              "        \n",
              "  <svg xmlns=\"http://www.w3.org/2000/svg\" height=\"24px\"viewBox=\"0 0 24 24\"\n",
              "       width=\"24px\">\n",
              "    <path d=\"M0 0h24v24H0V0z\" fill=\"none\"/>\n",
              "    <path d=\"M18.56 5.44l.94 2.06.94-2.06 2.06-.94-2.06-.94-.94-2.06-.94 2.06-2.06.94zm-11 1L8.5 8.5l.94-2.06 2.06-.94-2.06-.94L8.5 2.5l-.94 2.06-2.06.94zm10 10l.94 2.06.94-2.06 2.06-.94-2.06-.94-.94-2.06-.94 2.06-2.06.94z\"/><path d=\"M17.41 7.96l-1.37-1.37c-.4-.4-.92-.59-1.43-.59-.52 0-1.04.2-1.43.59L10.3 9.45l-7.72 7.72c-.78.78-.78 2.05 0 2.83L4 21.41c.39.39.9.59 1.41.59.51 0 1.02-.2 1.41-.59l7.78-7.78 2.81-2.81c.8-.78.8-2.07 0-2.86zM5.41 20L4 18.59l7.72-7.72 1.47 1.35L5.41 20z\"/>\n",
              "  </svg>\n",
              "      </button>\n",
              "      \n",
              "  <style>\n",
              "    .colab-df-container {\n",
              "      display:flex;\n",
              "      flex-wrap:wrap;\n",
              "      gap: 12px;\n",
              "    }\n",
              "\n",
              "    .colab-df-convert {\n",
              "      background-color: #E8F0FE;\n",
              "      border: none;\n",
              "      border-radius: 50%;\n",
              "      cursor: pointer;\n",
              "      display: none;\n",
              "      fill: #1967D2;\n",
              "      height: 32px;\n",
              "      padding: 0 0 0 0;\n",
              "      width: 32px;\n",
              "    }\n",
              "\n",
              "    .colab-df-convert:hover {\n",
              "      background-color: #E2EBFA;\n",
              "      box-shadow: 0px 1px 2px rgba(60, 64, 67, 0.3), 0px 1px 3px 1px rgba(60, 64, 67, 0.15);\n",
              "      fill: #174EA6;\n",
              "    }\n",
              "\n",
              "    [theme=dark] .colab-df-convert {\n",
              "      background-color: #3B4455;\n",
              "      fill: #D2E3FC;\n",
              "    }\n",
              "\n",
              "    [theme=dark] .colab-df-convert:hover {\n",
              "      background-color: #434B5C;\n",
              "      box-shadow: 0px 1px 3px 1px rgba(0, 0, 0, 0.15);\n",
              "      filter: drop-shadow(0px 1px 2px rgba(0, 0, 0, 0.3));\n",
              "      fill: #FFFFFF;\n",
              "    }\n",
              "  </style>\n",
              "\n",
              "      <script>\n",
              "        const buttonEl =\n",
              "          document.querySelector('#df-62d29737-a04f-416a-8738-34c42b3c33ed button.colab-df-convert');\n",
              "        buttonEl.style.display =\n",
              "          google.colab.kernel.accessAllowed ? 'block' : 'none';\n",
              "\n",
              "        async function convertToInteractive(key) {\n",
              "          const element = document.querySelector('#df-62d29737-a04f-416a-8738-34c42b3c33ed');\n",
              "          const dataTable =\n",
              "            await google.colab.kernel.invokeFunction('convertToInteractive',\n",
              "                                                     [key], {});\n",
              "          if (!dataTable) return;\n",
              "\n",
              "          const docLinkHtml = 'Like what you see? Visit the ' +\n",
              "            '<a target=\"_blank\" href=https://colab.research.google.com/notebooks/data_table.ipynb>data table notebook</a>'\n",
              "            + ' to learn more about interactive tables.';\n",
              "          element.innerHTML = '';\n",
              "          dataTable['output_type'] = 'display_data';\n",
              "          await google.colab.output.renderOutput(dataTable, element);\n",
              "          const docLink = document.createElement('div');\n",
              "          docLink.innerHTML = docLinkHtml;\n",
              "          element.appendChild(docLink);\n",
              "        }\n",
              "      </script>\n",
              "    </div>\n",
              "  </div>\n",
              "  "
            ]
          },
          "metadata": {},
          "execution_count": 21
        }
      ]
    },
    {
      "cell_type": "code",
      "source": [
        "#making models as the index\n",
        "land_rover_sales = land_rover_sales.set_index('Model')"
      ],
      "metadata": {
        "id": "Uh9k6U_0oK2c"
      },
      "execution_count": null,
      "outputs": []
    },
    {
      "cell_type": "code",
      "source": [
        "#PLotting line graph for all LandRover and Volvo Models\n",
        "data_rr_vol['Total_Sales'].plot(kind='line', figsize= (12,5))\n",
        "plt.title(\"Range Rover Vs Volvo all Models Sale\", fontsize=17)\n",
        "plt.ylabel('Total Sales', fontsize=17)\n",
        "plt.xlabel('Models', fontsize=17)\n",
        "plt.xticks(rotation = 60)\n",
        "plt.show()"
      ],
      "metadata": {
        "colab": {
          "base_uri": "https://localhost:8080/",
          "height": 497
        },
        "id": "tsGVPMq6mTZV",
        "outputId": "6ddfc352-7b53-484b-8d01-18d24bc79cc9"
      },
      "execution_count": null,
      "outputs": [
        {
          "output_type": "display_data",
          "data": {
            "text/plain": [
              "<Figure size 864x360 with 1 Axes>"
            ],
            "image/png": "[encoded data removed]"
          },
          "metadata": {
            "needs_background": "light"
          }
        }
      ]
    },
    {
      "cell_type": "code",
      "source": [
        "#Plotting a line graph for Total car sales\n",
        "gbm = data.groupby('Year')[[\"Total_Sales\"]].sum().sort_values(by = 'Year', ascending = False)\n",
        "\n",
        "gbm[:].plot.line(color = [\"red\"],figsize= (12,5), marker='o')       \n",
        "\n",
        "plt.title('Total Sales', fontsize=17)\n",
        "plt.xlabel('Year', fontsize=17)\n",
        "plt.ylabel('Total Car Sales', fontsize=17)\n",
        "plt.text(2020.25,300000,'Covid-19 stopped the world', fontdict={'size':16,'color':'g'})\n",
        "plt.grid(True)\n",
        "plt.show()"
      ],
      "metadata": {
        "id": "LhITBcjNp9PU",
        "colab": {
          "base_uri": "https://localhost:8080/",
          "height": 362
        },
        "outputId": "0ecfb654-d486-4dbb-cfea-96f0d369aab8"
      },
      "execution_count": null,
      "outputs": [
        {
          "output_type": "display_data",
          "data": {
            "text/plain": [
              "<Figure size 864x360 with 1 Axes>"
            ],
            "image/png": "[encoded data removed]"
          },
          "metadata": {
            "needs_background": "light"
          }
        }
      ]
    },
    {
      "cell_type": "markdown",
      "source": [
        "## MatplotLib Library"
      ],
      "metadata": {
        "id": "HYvDYSWHaQgT"
      }
    },
    {
      "cell_type": "code",
      "source": [
        "x = land_rover_sales['Year']\n",
        "\n",
        "y = land_rover_sales['Total_Sales']\n",
        "plt.bar(x, y, color ='blue', width=0.5)\n",
        "plt.title('Total Land Rover sales by Year',fontsize=17)\n",
        "plt.xlabel('Year',fontsize=17)\n",
        "plt.ylabel('Total Car Sales', fontsize=17)\n",
        "plt.show()\n",
        "\n"
      ],
      "metadata": {
        "colab": {
          "base_uri": "https://localhost:8080/",
          "height": 307
        },
        "id": "EwpsvokIYl5C",
        "outputId": "6bd54963-0e21-4116-a1bd-01161374d13f"
      },
      "execution_count": null,
      "outputs": [
        {
          "output_type": "display_data",
          "data": {
            "text/plain": [
              "<Figure size 432x288 with 1 Axes>"
            ],
            "image/png": "[encoded data removed]"
          },
          "metadata": {
            "needs_background": "light"
          }
        }
      ]
    },
    {
      "cell_type": "markdown",
      "source": [
        "## Seaborn Library"
      ],
      "metadata": {
        "id": "j8hJFVFIZ7Rj"
      }
    },
    {
      "cell_type": "code",
      "source": [
        "\n",
        "sns.barplot(data=land_rover_sales,x='Year',y='Total_Sales',ci=None)\n",
        "plt.title('Land Rover all Models Sale', fontsize=17)\n",
        "plt.xlabel('Year', fontsize=17)\n",
        "plt.ylabel('Total Car Sales', fontsize=17)\n",
        "plt.show()"
      ],
      "metadata": {
        "id": "KuFYa6mNaYbw",
        "outputId": "0b04ce64-b3c9-441d-ee89-e873ce3740cf",
        "colab": {
          "base_uri": "https://localhost:8080/",
          "height": 307
        }
      },
      "execution_count": null,
      "outputs": [
        {
          "output_type": "display_data",
          "data": {
            "text/plain": [
              "<Figure size 432x288 with 1 Axes>"
            ],
            "image/png": "[encoded data removed]"
          },
          "metadata": {
            "needs_background": "light"
          }
        }
      ]
    },
    {
      "cell_type": "code",
      "source": [
        "#Showing Categorize Bar chart\n",
        "sns.barplot(data=land_rover_sales,x='Year',y='Total_Sales',hue='Car_Size',ci=None)\n",
        "sns.set_palette('Set1')\n",
        "plt.title('Land Rover all Models Sale', fontsize=17)\n",
        "plt.xlabel('Year', fontsize=17)\n",
        "plt.ylabel('Total Car Sales', fontsize=17)\n",
        "sns.despine()\n",
        "plt.show()"
      ],
      "metadata": {
        "colab": {
          "base_uri": "https://localhost:8080/",
          "height": 307
        },
        "id": "M7Avestscoj-",
        "outputId": "5869f67d-090e-4d84-e683-41c3ee0f2336"
      },
      "execution_count": null,
      "outputs": [
        {
          "output_type": "display_data",
          "data": {
            "text/plain": [
              "<Figure size 432x288 with 1 Axes>"
            ],
            "image/png": "[encoded data removed]"
          },
          "metadata": {
            "needs_background": "light"
          }
        }
      ]
    },
    {
      "cell_type": "markdown",
      "source": [
        "## Plotly Library"
      ],
      "metadata": {
        "id": "fi5rhEHLaZcJ"
      }
    },
    {
      "cell_type": "code",
      "source": [
        "#Assinging all months to a varible\n",
        "month = land_rover_sales[['Jan','Feb', 'Mar', 'Apr', 'May', 'Jun', 'Jul', 'Aug', 'Sep', 'Oct', 'Nov', 'Dec']]"
      ],
      "metadata": {
        "id": "SlPrAmH7svVD"
      },
      "execution_count": 7,
      "outputs": []
    },
    {
      "cell_type": "code",
      "source": [
        "import plotly.express as px\n",
        "\n",
        "#land_rover_sales = px.data.gapminder().query('[month]')\n",
        "fig = px.bar(land_rover_sales, x='Model', y = 'Total_Sales', title = 'Range Rover / Land Rover Models',\n",
        "             color='Year', hover_data = month)\n",
        "fig.show()"
      ],
      "metadata": {
        "id": "vRK19anRacoD",
        "colab": {
          "base_uri": "https://localhost:8080/",
          "height": 562
        },
        "outputId": "0edfdb0b-a13b-455a-fa88-087628b22acd"
      },
      "execution_count": 8,
      "outputs": [
        {
          "output_type": "display_data",
          "data": {
            "text/html": [
              "<html>\n",
              "<head><meta charset=\"utf-8\" /></head>\n",
              "<body>\n",
              "    <div>            <script src=\"https://cdnjs.cloudflare.com/ajax/libs/mathjax/2.7.5/MathJax.js?config=TeX-AMS-MML_SVG\"></script><script type=\"text/javascript\">if (window.MathJax) {MathJax.Hub.Config({SVG: {font: \"STIX-Web\"}});}</script>                <script type=\"text/javascript\">window.PlotlyConfig = {MathJaxConfig: 'local'};</script>\n",
              "        <script src=\"https://cdn.plot.ly/plotly-2.8.3.min.js\"></script>                <div id=\"5b953fc8-0885-4c7c-82e7-0f5f868d4c3f\" class=\"plotly-graph-div\" style=\"height:525px; width:100%;\"></div>            <script type=\"text/javascript\">                                    window.PLOTLYENV=window.PLOTLYENV || {};                                    if (document.getElementById(\"5b953fc8-0885-4c7c-82e7-0f5f868d4c3f\")) {                    Plotly.newPlot(                        \"5b953fc8-0885-4c7c-82e7-0f5f868d4c3f\",                        [{\"alignmentgroup\":\"True\",\"customdata\":[[216,216,243,129,124,129,0,0,0,0,0,0],[13,13,15,21,20,21,0,0,0,0,0,0],[263,263,296,282,271,282,0,0,0,0,0,0],[105,105,118,149,143,149,0,0,0,0,0,0],[0,0,0,2,4,5,112,100,108,168,138,192],[35,46,28,12,27,29,33,30,32,18,14,20],[237,307,186,84,186,195,168,149,161,236,194,270],[152,197,119,46,103,108,109,97,105,102,84,117],[54,70,140,148,45,78,76,60,133,97,92,83],[53,55,179,61,198,199,117,179,120,172,226,229],[90,90,101,41,39,41,0,0,0,0,0,0],[124,124,139,75,72,75,0,0,0,0,0,0],[84,109,66,29,64,68,83,73,79,68,56,77],[137,177,107,58,128,134,117,104,113,113,93,129],[54,70,140,148,45,78,76,60,133,97,92,83],[53,55,179,61,198,199,117,179,120,172,226,229],[140,140,157,114,110,114,0,0,0,0,0,0],[88,114,69,49,108,114,93,83,90,116,96,133],[111,101,259,198,141,119,79,126,158,159,108,173]],\"hovertemplate\":\"Model=%{x}<br>Total_Sales=%{y}<br>Jan=%{customdata[0]}<br>Feb=%{customdata[1]}<br>Mar=%{customdata[2]}<br>Apr=%{customdata[3]}<br>May=%{customdata[4]}<br>Jun=%{customdata[5]}<br>Jul=%{customdata[6]}<br>Aug=%{customdata[7]}<br>Sep=%{customdata[8]}<br>Oct=%{customdata[9]}<br>Nov=%{customdata[10]}<br>Dec=%{customdata[11]}<br>Year=%{marker.color}<extra></extra>\",\"legendgroup\":\"\",\"marker\":{\"color\":[2021,2021,2021,2021,2020,2020,2020,2020,2019,2019,2021,2021,2020,2020,2019,2019,2021,2020,2019],\"coloraxis\":\"coloraxis\",\"pattern\":{\"shape\":\"\"}},\"name\":\"\",\"offsetgroup\":\"\",\"orientation\":\"v\",\"showlegend\":false,\"textposition\":\"auto\",\"x\":[\"Land Rover Defender\",\"Land Rover Discovery / LR4\",\"Land Rover Range Rover Sport\",\"Land Rover Range Rover Velar\",\"Land Rover Defender\",\"Land Rover Discovery / LR4\",\"Land Rover Range Rover Sport\",\"Land Rover Range Rover Velar\",\"Land Rover Discovery Sport\",\"Land Rover Range Rover Evoque\",\"Land Rover Discovery Sport\",\"Land Rover Range Rover Evoque\",\"Land Rover Discovery Sport\",\"Land Rover Range Rover Evoque\",\"Land Rover Discovery Sport\",\"Land Rover Range Rover Evoque\",\"Land Rover Range Rover\",\"Land Rover Range Rover\",\"Land Rover Range Rover\"],\"xaxis\":\"x\",\"y\":[1057,103,1657,769,829,324,2373,1339,1076,1788,402,609,856,1410,1076,1788,775,1153,1732],\"yaxis\":\"y\",\"type\":\"bar\"}],                        {\"template\":{\"data\":{\"bar\":[{\"error_x\":{\"color\":\"#2a3f5f\"},\"error_y\":{\"color\":\"#2a3f5f\"},\"marker\":{\"line\":{\"color\":\"#E5ECF6\",\"width\":0.5},\"pattern\":{\"fillmode\":\"overlay\",\"size\":10,\"solidity\":0.2}},\"type\":\"bar\"}],\"barpolar\":[{\"marker\":{\"line\":{\"color\":\"#E5ECF6\",\"width\":0.5},\"pattern\":{\"fillmode\":\"overlay\",\"size\":10,\"solidity\":0.2}},\"type\":\"barpolar\"}],\"carpet\":[{\"aaxis\":{\"endlinecolor\":\"#2a3f5f\",\"gridcolor\":\"white\",\"linecolor\":\"white\",\"minorgridcolor\":\"white\",\"startlinecolor\":\"#2a3f5f\"},\"baxis\":{\"endlinecolor\":\"#2a3f5f\",\"gridcolor\":\"white\",\"linecolor\":\"white\",\"minorgridcolor\":\"white\",\"startlinecolor\":\"#2a3f5f\"},\"type\":\"carpet\"}],\"choropleth\":[{\"colorbar\":{\"outlinewidth\":0,\"ticks\":\"\"},\"type\":\"choropleth\"}],\"contour\":[{\"colorbar\":{\"outlinewidth\":0,\"ticks\":\"\"},\"colorscale\":[[0.0,\"#0d0887\"],[0.1111111111111111,\"#46039f\"],[0.2222222222222222,\"#7201a8\"],[0.3333333333333333,\"#9c179e\"],[0.4444444444444444,\"#bd3786\"],[0.5555555555555556,\"#d8576b\"],[0.6666666666666666,\"#ed7953\"],[0.7777777777777778,\"#fb9f3a\"],[0.8888888888888888,\"#fdca26\"],[1.0,\"#f0f921\"]],\"type\":\"contour\"}],\"contourcarpet\":[{\"colorbar\":{\"outlinewidth\":0,\"ticks\":\"\"},\"type\":\"contourcarpet\"}],\"heatmap\":[{\"colorbar\":{\"outlinewidth\":0,\"ticks\":\"\"},\"colorscale\":[[0.0,\"#0d0887\"],[0.1111111111111111,\"#46039f\"],[0.2222222222222222,\"#7201a8\"],[0.3333333333333333,\"#9c179e\"],[0.4444444444444444,\"#bd3786\"],[0.5555555555555556,\"#d8576b\"],[0.6666666666666666,\"#ed7953\"],[0.7777777777777778,\"#fb9f3a\"],[0.8888888888888888,\"#fdca26\"],[1.0,\"#f0f921\"]],\"type\":\"heatmap\"}],\"heatmapgl\":[{\"colorbar\":{\"outlinewidth\":0,\"ticks\":\"\"},\"colorscale\":[[0.0,\"#0d0887\"],[0.1111111111111111,\"#46039f\"],[0.2222222222222222,\"#7201a8\"],[0.3333333333333333,\"#9c179e\"],[0.4444444444444444,\"#bd3786\"],[0.5555555555555556,\"#d8576b\"],[0.6666666666666666,\"#ed7953\"],[0.7777777777777778,\"#fb9f3a\"],[0.8888888888888888,\"#fdca26\"],[1.0,\"#f0f921\"]],\"type\":\"heatmapgl\"}],\"histogram\":[{\"marker\":{\"pattern\":{\"fillmode\":\"overlay\",\"size\":10,\"solidity\":0.2}},\"type\":\"histogram\"}],\"histogram2d\":[{\"colorbar\":{\"outlinewidth\":0,\"ticks\":\"\"},\"colorscale\":[[0.0,\"#0d0887\"],[0.1111111111111111,\"#46039f\"],[0.2222222222222222,\"#7201a8\"],[0.3333333333333333,\"#9c179e\"],[0.4444444444444444,\"#bd3786\"],[0.5555555555555556,\"#d8576b\"],[0.6666666666666666,\"#ed7953\"],[0.7777777777777778,\"#fb9f3a\"],[0.8888888888888888,\"#fdca26\"],[1.0,\"#f0f921\"]],\"type\":\"histogram2d\"}],\"histogram2dcontour\":[{\"colorbar\":{\"outlinewidth\":0,\"ticks\":\"\"},\"colorscale\":[[0.0,\"#0d0887\"],[0.1111111111111111,\"#46039f\"],[0.2222222222222222,\"#7201a8\"],[0.3333333333333333,\"#9c179e\"],[0.4444444444444444,\"#bd3786\"],[0.5555555555555556,\"#d8576b\"],[0.6666666666666666,\"#ed7953\"],[0.7777777777777778,\"#fb9f3a\"],[0.8888888888888888,\"#fdca26\"],[1.0,\"#f0f921\"]],\"type\":\"histogram2dcontour\"}],\"mesh3d\":[{\"colorbar\":{\"outlinewidth\":0,\"ticks\":\"\"},\"type\":\"mesh3d\"}],\"parcoords\":[{\"line\":{\"colorbar\":{\"outlinewidth\":0,\"ticks\":\"\"}},\"type\":\"parcoords\"}],\"pie\":[{\"automargin\":true,\"type\":\"pie\"}],\"scatter\":[{\"marker\":{\"colorbar\":{\"outlinewidth\":0,\"ticks\":\"\"}},\"type\":\"scatter\"}],\"scatter3d\":[{\"line\":{\"colorbar\":{\"outlinewidth\":0,\"ticks\":\"\"}},\"marker\":{\"colorbar\":{\"outlinewidth\":0,\"ticks\":\"\"}},\"type\":\"scatter3d\"}],\"scattercarpet\":[{\"marker\":{\"colorbar\":{\"outlinewidth\":0,\"ticks\":\"\"}},\"type\":\"scattercarpet\"}],\"scattergeo\":[{\"marker\":{\"colorbar\":{\"outlinewidth\":0,\"ticks\":\"\"}},\"type\":\"scattergeo\"}],\"scattergl\":[{\"marker\":{\"colorbar\":{\"outlinewidth\":0,\"ticks\":\"\"}},\"type\":\"scattergl\"}],\"scattermapbox\":[{\"marker\":{\"colorbar\":{\"outlinewidth\":0,\"ticks\":\"\"}},\"type\":\"scattermapbox\"}],\"scatterpolar\":[{\"marker\":{\"colorbar\":{\"outlinewidth\":0,\"ticks\":\"\"}},\"type\":\"scatterpolar\"}],\"scatterpolargl\":[{\"marker\":{\"colorbar\":{\"outlinewidth\":0,\"ticks\":\"\"}},\"type\":\"scatterpolargl\"}],\"scatterternary\":[{\"marker\":{\"colorbar\":{\"outlinewidth\":0,\"ticks\":\"\"}},\"type\":\"scatterternary\"}],\"surface\":[{\"colorbar\":{\"outlinewidth\":0,\"ticks\":\"\"},\"colorscale\":[[0.0,\"#0d0887\"],[0.1111111111111111,\"#46039f\"],[0.2222222222222222,\"#7201a8\"],[0.3333333333333333,\"#9c179e\"],[0.4444444444444444,\"#bd3786\"],[0.5555555555555556,\"#d8576b\"],[0.6666666666666666,\"#ed7953\"],[0.7777777777777778,\"#fb9f3a\"],[0.8888888888888888,\"#fdca26\"],[1.0,\"#f0f921\"]],\"type\":\"surface\"}],\"table\":[{\"cells\":{\"fill\":{\"color\":\"#EBF0F8\"},\"line\":{\"color\":\"white\"}},\"header\":{\"fill\":{\"color\":\"#C8D4E3\"},\"line\":{\"color\":\"white\"}},\"type\":\"table\"}]},\"layout\":{\"annotationdefaults\":{\"arrowcolor\":\"#2a3f5f\",\"arrowhead\":0,\"arrowwidth\":1},\"autotypenumbers\":\"strict\",\"coloraxis\":{\"colorbar\":{\"outlinewidth\":0,\"ticks\":\"\"}},\"colorscale\":{\"diverging\":[[0,\"#8e0152\"],[0.1,\"#c51b7d\"],[0.2,\"#de77ae\"],[0.3,\"#f1b6da\"],[0.4,\"#fde0ef\"],[0.5,\"#f7f7f7\"],[0.6,\"#e6f5d0\"],[0.7,\"#b8e186\"],[0.8,\"#7fbc41\"],[0.9,\"#4d9221\"],[1,\"#276419\"]],\"sequential\":[[0.0,\"#0d0887\"],[0.1111111111111111,\"#46039f\"],[0.2222222222222222,\"#7201a8\"],[0.3333333333333333,\"#9c179e\"],[0.4444444444444444,\"#bd3786\"],[0.5555555555555556,\"#d8576b\"],[0.6666666666666666,\"#ed7953\"],[0.7777777777777778,\"#fb9f3a\"],[0.8888888888888888,\"#fdca26\"],[1.0,\"#f0f921\"]],\"sequentialminus\":[[0.0,\"#0d0887\"],[0.1111111111111111,\"#46039f\"],[0.2222222222222222,\"#7201a8\"],[0.3333333333333333,\"#9c179e\"],[0.4444444444444444,\"#bd3786\"],[0.5555555555555556,\"#d8576b\"],[0.6666666666666666,\"#ed7953\"],[0.7777777777777778,\"#fb9f3a\"],[0.8888888888888888,\"#fdca26\"],[1.0,\"#f0f921\"]]},\"colorway\":[\"#636efa\",\"#EF553B\",\"#00cc96\",\"#ab63fa\",\"#FFA15A\",\"#19d3f3\",\"#FF6692\",\"#B6E880\",\"#FF97FF\",\"#FECB52\"],\"font\":{\"color\":\"#2a3f5f\"},\"geo\":{\"bgcolor\":\"white\",\"lakecolor\":\"white\",\"landcolor\":\"#E5ECF6\",\"showlakes\":true,\"showland\":true,\"subunitcolor\":\"white\"},\"hoverlabel\":{\"align\":\"left\"},\"hovermode\":\"closest\",\"mapbox\":{\"style\":\"light\"},\"paper_bgcolor\":\"white\",\"plot_bgcolor\":\"#E5ECF6\",\"polar\":{\"angularaxis\":{\"gridcolor\":\"white\",\"linecolor\":\"white\",\"ticks\":\"\"},\"bgcolor\":\"#E5ECF6\",\"radialaxis\":{\"gridcolor\":\"white\",\"linecolor\":\"white\",\"ticks\":\"\"}},\"scene\":{\"xaxis\":{\"backgroundcolor\":\"#E5ECF6\",\"gridcolor\":\"white\",\"gridwidth\":2,\"linecolor\":\"white\",\"showbackground\":true,\"ticks\":\"\",\"zerolinecolor\":\"white\"},\"yaxis\":{\"backgroundcolor\":\"#E5ECF6\",\"gridcolor\":\"white\",\"gridwidth\":2,\"linecolor\":\"white\",\"showbackground\":true,\"ticks\":\"\",\"zerolinecolor\":\"white\"},\"zaxis\":{\"backgroundcolor\":\"#E5ECF6\",\"gridcolor\":\"white\",\"gridwidth\":2,\"linecolor\":\"white\",\"showbackground\":true,\"ticks\":\"\",\"zerolinecolor\":\"white\"}},\"shapedefaults\":{\"line\":{\"color\":\"#2a3f5f\"}},\"ternary\":{\"aaxis\":{\"gridcolor\":\"white\",\"linecolor\":\"white\",\"ticks\":\"\"},\"baxis\":{\"gridcolor\":\"white\",\"linecolor\":\"white\",\"ticks\":\"\"},\"bgcolor\":\"#E5ECF6\",\"caxis\":{\"gridcolor\":\"white\",\"linecolor\":\"white\",\"ticks\":\"\"}},\"title\":{\"x\":0.05},\"xaxis\":{\"automargin\":true,\"gridcolor\":\"white\",\"linecolor\":\"white\",\"ticks\":\"\",\"title\":{\"standoff\":15},\"zerolinecolor\":\"white\",\"zerolinewidth\":2},\"yaxis\":{\"automargin\":true,\"gridcolor\":\"white\",\"linecolor\":\"white\",\"ticks\":\"\",\"title\":{\"standoff\":15},\"zerolinecolor\":\"white\",\"zerolinewidth\":2}}},\"xaxis\":{\"anchor\":\"y\",\"domain\":[0.0,1.0],\"title\":{\"text\":\"Model\"}},\"yaxis\":{\"anchor\":\"x\",\"domain\":[0.0,1.0],\"title\":{\"text\":\"Total_Sales\"}},\"coloraxis\":{\"colorbar\":{\"title\":{\"text\":\"Year\"}},\"colorscale\":[[0.0,\"#0d0887\"],[0.1111111111111111,\"#46039f\"],[0.2222222222222222,\"#7201a8\"],[0.3333333333333333,\"#9c179e\"],[0.4444444444444444,\"#bd3786\"],[0.5555555555555556,\"#d8576b\"],[0.6666666666666666,\"#ed7953\"],[0.7777777777777778,\"#fb9f3a\"],[0.8888888888888888,\"#fdca26\"],[1.0,\"#f0f921\"]]},\"legend\":{\"tracegroupgap\":0},\"title\":{\"text\":\"Range Rover / Land Rover Models\"},\"barmode\":\"relative\"},                        {\"responsive\": true}                    ).then(function(){\n",
              "                            \n",
              "var gd = document.getElementById('5b953fc8-0885-4c7c-82e7-0f5f868d4c3f');\n",
              "var x = new MutationObserver(function (mutations, observer) {{\n",
              "        var display = window.getComputedStyle(gd).display;\n",
              "        if (!display || display === 'none') {{\n",
              "            console.log([gd, 'removed!']);\n",
              "            Plotly.purge(gd);\n",
              "            observer.disconnect();\n",
              "        }}\n",
              "}});\n",
              "\n",
              "// Listen for the removal of the full notebook cells\n",
              "var notebookContainer = gd.closest('#notebook-container');\n",
              "if (notebookContainer) {{\n",
              "    x.observe(notebookContainer, {childList: true});\n",
              "}}\n",
              "\n",
              "// Listen for the clearing of the current output cell\n",
              "var outputEl = gd.closest('.output');\n",
              "if (outputEl) {{\n",
              "    x.observe(outputEl, {childList: true});\n",
              "}}\n",
              "\n",
              "                        })                };                            </script>        </div>\n",
              "</body>\n",
              "</html>"
            ]
          },
          "metadata": {}
        }
      ]
    },
    {
      "cell_type": "markdown",
      "source": [
        "## HeatMap using Seaborn"
      ],
      "metadata": {
        "id": "ndpCpIBIniYc"
      }
    },
    {
      "cell_type": "code",
      "source": [
        "#Creating a pivot table using Category, Year and SumofSales\n",
        "carsale = data.pivot_table(index = 'Category', columns = 'Year', values = 'Sumofsales')"
      ],
      "metadata": {
        "id": "Fz5Fa05tnmV2"
      },
      "execution_count": null,
      "outputs": []
    },
    {
      "cell_type": "code",
      "source": [
        "#HeatMap\n",
        "sns.heatmap(carsale)"
      ],
      "metadata": {
        "colab": {
          "base_uri": "https://localhost:8080/",
          "height": 316
        },
        "id": "IIHa93oRo34f",
        "outputId": "47bbbd74-6947-47e8-a69c-5a6ca9fdb053"
      },
      "execution_count": null,
      "outputs": [
        {
          "output_type": "execute_result",
          "data": {
            "text/plain": [
              "<matplotlib.axes._subplots.AxesSubplot at 0x7f7a2355dad0>"
            ]
          },
          "metadata": {},
          "execution_count": 4
        },
        {
          "output_type": "display_data",
          "data": {
            "text/plain": [
              "<Figure size 432x288 with 2 Axes>"
            ],
            "image/png": "[encoded data removed]"
          },
          "metadata": {
            "needs_background": "light"
          }
        }
      ]
    },
    {
      "cell_type": "code",
      "source": [
        ""
      ],
      "metadata": {
        "id": "CeNjSf0rpCAi"
      },
      "execution_count": null,
      "outputs": []
    }
  ]
}